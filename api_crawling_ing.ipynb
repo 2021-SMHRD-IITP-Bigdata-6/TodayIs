{
 "cells": [
  {
   "cell_type": "markdown",
   "id": "0727a5f1",
   "metadata": {},
   "source": [
    "### 라이브러리"
   ]
  },
  {
   "cell_type": "code",
   "execution_count": 480,
   "id": "b5235d05",
   "metadata": {},
   "outputs": [],
   "source": [
    "from urllib.request import urlopen \n",
    "from urllib.parse import urlencode, unquote, quote_plus \n",
    "import urllib \n",
    "import requests \n",
    "import json \n",
    "import pandas as pd\n",
    "\n",
    "from urllib.request import Request, urlopen\n",
    "from urllib.parse import urlencode, quote_plus"
   ]
  },
  {
   "cell_type": "markdown",
   "id": "a1200a44",
   "metadata": {},
   "source": [
    "### 기상청_지상(종관, ASOS) 일자료 조회서비스\n",
    "#### 날짜, 최저기온, 최고기온, 습도"
   ]
  },
  {
   "cell_type": "code",
   "execution_count": 481,
   "id": "24f4c514",
   "metadata": {},
   "outputs": [],
   "source": [
    "# url for request \n",
    "url = 'http://apis.data.go.kr/1360000/AsosDalyInfoService'\n",
    "#url = 'http://apis.data.go.kr/1360000/AsosDalyInfoService/getWthrDataList'"
   ]
  },
  {
   "cell_type": "code",
   "execution_count": 324,
   "id": "1e27d1dc",
   "metadata": {},
   "outputs": [],
   "source": [
    "# 서비스키\n",
    "# C%2BnmogTO%2BLYAzMLDTE2XUqHHdRc04POEKrJT%2FeJ7FlrBP4mIEKCF4aMcMGNzH88x1o%2FmjvLfFxOY8BOSZRHP%2FQ%3D%3D"
   ]
  },
  {
   "cell_type": "code",
   "execution_count": 487,
   "id": "710223ec",
   "metadata": {},
   "outputs": [
    {
     "name": "stdout",
     "output_type": "stream",
     "text": [
      "http://apis.data.go.kr/1360000/AsosDalyInfoService/getWthrDataList?serviceKey=C%2BnmogTO%2BLYAzMLDTE2XUqHHdRc04POEKrJT%2FeJ7FlrBP4mIEKCF4aMcMGNzH88x1o%2FmjvLfFxOY8BOSZRHP%2FQ%3D%3D&pageNo=1&numOfRows=999&dataType=JSON&dataCd=ASOS&dateCd=DAY&startDt=20211223&endDt=20211225&stnIds=108\n",
      "<Response [200]>\n"
     ]
    }
   ],
   "source": [
    "import pandas as pd\n",
    "import json\n",
    "import requests\n",
    "from bs4 import BeautifulSoup\n",
    "import time\n",
    "\n",
    "url = 'http://apis.data.go.kr/1360000/AsosDalyInfoService/'\n",
    "\n",
    "queryParams = 'getWthrDataList?' + \\\n",
    "              'serviceKey=' + 'C%2BnmogTO%2BLYAzMLDTE2XUqHHdRc04POEKrJT%2FeJ7FlrBP4mIEKCF4aMcMGNzH88x1o%2FmjvLfFxOY8BOSZRHP%2FQ%3D%3D'+ \\\n",
    "              '&pageNo='+ '1' + \\\n",
    "              '&numOfRows='+ '999' + \\\n",
    "              '&dataType='+ 'JSON' + \\\n",
    "              '&dataCd='+ 'ASOS' + \\\n",
    "              '&dateCd='+ 'DAY' + \\\n",
    "              '&startDt='+ '20211223' + \\\n",
    "              '&endDt='+ '20211225' + \\\n",
    "              '&stnIds='+ '108' # \\ 뒤에 공백 금지\n",
    "print(url+queryParams)\n",
    "result = requests.get(url + queryParams)\n",
    "print(result)"
   ]
  },
  {
   "cell_type": "code",
   "execution_count": 488,
   "id": "8604804b",
   "metadata": {},
   "outputs": [
    {
     "data": {
      "text/html": [
       "<div>\n",
       "<style scoped>\n",
       "    .dataframe tbody tr th:only-of-type {\n",
       "        vertical-align: middle;\n",
       "    }\n",
       "\n",
       "    .dataframe tbody tr th {\n",
       "        vertical-align: top;\n",
       "    }\n",
       "\n",
       "    .dataframe thead th {\n",
       "        text-align: right;\n",
       "    }\n",
       "</style>\n",
       "<table border=\"1\" class=\"dataframe\">\n",
       "  <thead>\n",
       "    <tr style=\"text-align: right;\">\n",
       "      <th></th>\n",
       "      <th>stnId</th>\n",
       "      <th>stnNm</th>\n",
       "      <th>tm</th>\n",
       "      <th>avgTa</th>\n",
       "      <th>minTa</th>\n",
       "      <th>minTaHrmt</th>\n",
       "      <th>maxTa</th>\n",
       "      <th>maxTaHrmt</th>\n",
       "      <th>mi10MaxRn</th>\n",
       "      <th>mi10MaxRnHrmt</th>\n",
       "      <th>...</th>\n",
       "      <th>avgM05Te</th>\n",
       "      <th>avgM10Te</th>\n",
       "      <th>avgM15Te</th>\n",
       "      <th>avgM30Te</th>\n",
       "      <th>avgM50Te</th>\n",
       "      <th>sumLrgEv</th>\n",
       "      <th>sumSmlEv</th>\n",
       "      <th>n99Rn</th>\n",
       "      <th>iscs</th>\n",
       "      <th>sumFogDur</th>\n",
       "    </tr>\n",
       "  </thead>\n",
       "  <tbody>\n",
       "    <tr>\n",
       "      <th>0</th>\n",
       "      <td>108</td>\n",
       "      <td>서울</td>\n",
       "      <td>2021-12-23</td>\n",
       "      <td>2.7</td>\n",
       "      <td>-1.5</td>\n",
       "      <td>716</td>\n",
       "      <td>8.3</td>\n",
       "      <td>1451</td>\n",
       "      <td></td>\n",
       "      <td></td>\n",
       "      <td>...</td>\n",
       "      <td>5.1</td>\n",
       "      <td>8.3</td>\n",
       "      <td>11.5</td>\n",
       "      <td>15.8</td>\n",
       "      <td>17.5</td>\n",
       "      <td>1.4</td>\n",
       "      <td>1.9</td>\n",
       "      <td></td>\n",
       "      <td></td>\n",
       "      <td></td>\n",
       "    </tr>\n",
       "    <tr>\n",
       "      <th>1</th>\n",
       "      <td>108</td>\n",
       "      <td>서울</td>\n",
       "      <td>2021-12-24</td>\n",
       "      <td>-0.3</td>\n",
       "      <td>-7.3</td>\n",
       "      <td>2400</td>\n",
       "      <td>3.2</td>\n",
       "      <td>1157</td>\n",
       "      <td></td>\n",
       "      <td></td>\n",
       "      <td>...</td>\n",
       "      <td>4.9</td>\n",
       "      <td>8.2</td>\n",
       "      <td>11.4</td>\n",
       "      <td>15.7</td>\n",
       "      <td>17.5</td>\n",
       "      <td>0.8</td>\n",
       "      <td>1.1</td>\n",
       "      <td>0.2</td>\n",
       "      <td>{눈}1220-1340. {박무}1240-1345. {박무}1435-{박무}{강도0...</td>\n",
       "      <td></td>\n",
       "    </tr>\n",
       "  </tbody>\n",
       "</table>\n",
       "<p>2 rows × 62 columns</p>\n",
       "</div>"
      ],
      "text/plain": [
       "  stnId stnNm          tm avgTa minTa minTaHrmt maxTa maxTaHrmt mi10MaxRn  \\\n",
       "0   108    서울  2021-12-23   2.7  -1.5       716   8.3      1451             \n",
       "1   108    서울  2021-12-24  -0.3  -7.3      2400   3.2      1157             \n",
       "\n",
       "  mi10MaxRnHrmt  ... avgM05Te avgM10Te avgM15Te avgM30Te avgM50Te sumLrgEv  \\\n",
       "0                ...      5.1      8.3     11.5     15.8     17.5      1.4   \n",
       "1                ...      4.9      8.2     11.4     15.7     17.5      0.8   \n",
       "\n",
       "  sumSmlEv n99Rn                                               iscs sumFogDur  \n",
       "0      1.9                                                                     \n",
       "1      1.1   0.2  {눈}1220-1340. {박무}1240-1345. {박무}1435-{박무}{강도0...            \n",
       "\n",
       "[2 rows x 62 columns]"
      ]
     },
     "execution_count": 488,
     "metadata": {},
     "output_type": "execute_result"
    }
   ],
   "source": [
    "js = json.loads(result.content)\n",
    "data = pd.DataFrame(js['response']['body']['items']['item'])\n",
    "data"
   ]
  },
  {
   "cell_type": "code",
   "execution_count": 489,
   "id": "a93b3009",
   "metadata": {},
   "outputs": [
    {
     "data": {
      "text/html": [
       "<div>\n",
       "<style scoped>\n",
       "    .dataframe tbody tr th:only-of-type {\n",
       "        vertical-align: middle;\n",
       "    }\n",
       "\n",
       "    .dataframe tbody tr th {\n",
       "        vertical-align: top;\n",
       "    }\n",
       "\n",
       "    .dataframe thead th {\n",
       "        text-align: right;\n",
       "    }\n",
       "</style>\n",
       "<table border=\"1\" class=\"dataframe\">\n",
       "  <thead>\n",
       "    <tr style=\"text-align: right;\">\n",
       "      <th></th>\n",
       "      <th>지역</th>\n",
       "      <th>날짜</th>\n",
       "      <th>최저기온</th>\n",
       "      <th>최고기온</th>\n",
       "      <th>습도</th>\n",
       "    </tr>\n",
       "  </thead>\n",
       "  <tbody>\n",
       "    <tr>\n",
       "      <th>0</th>\n",
       "      <td>서울</td>\n",
       "      <td>2021-12-23</td>\n",
       "      <td>-1.5</td>\n",
       "      <td>8.3</td>\n",
       "      <td>53.5</td>\n",
       "    </tr>\n",
       "    <tr>\n",
       "      <th>1</th>\n",
       "      <td>서울</td>\n",
       "      <td>2021-12-24</td>\n",
       "      <td>-7.3</td>\n",
       "      <td>3.2</td>\n",
       "      <td>65.3</td>\n",
       "    </tr>\n",
       "  </tbody>\n",
       "</table>\n",
       "</div>"
      ],
      "text/plain": [
       "   지역          날짜  최저기온 최고기온    습도\n",
       "0  서울  2021-12-23  -1.5  8.3  53.5\n",
       "1  서울  2021-12-24  -7.3  3.2  65.3"
      ]
     },
     "execution_count": 489,
     "metadata": {},
     "output_type": "execute_result"
    }
   ],
   "source": [
    "li = ['stnNm','tm','minTa','maxTa','avgRhm']\n",
    "data = data.loc[:,li]\n",
    "data.columns=['지역', '날짜', '최저기온', '최고기온', '습도']\n",
    "data"
   ]
  },
  {
   "cell_type": "code",
   "execution_count": null,
   "id": "d56c03f3",
   "metadata": {},
   "outputs": [],
   "source": []
  },
  {
   "cell_type": "code",
   "execution_count": null,
   "id": "a20bbf5f",
   "metadata": {},
   "outputs": [],
   "source": []
  },
  {
   "cell_type": "code",
   "execution_count": null,
   "id": "d151253e",
   "metadata": {},
   "outputs": [],
   "source": []
  }
 ],
 "metadata": {
  "kernelspec": {
   "display_name": "Python 3",
   "language": "python",
   "name": "python3"
  },
  "language_info": {
   "codemirror_mode": {
    "name": "ipython",
    "version": 3
   },
   "file_extension": ".py",
   "mimetype": "text/x-python",
   "name": "python",
   "nbconvert_exporter": "python",
   "pygments_lexer": "ipython3",
   "version": "3.8.8"
  }
 },
 "nbformat": 4,
 "nbformat_minor": 5
}
