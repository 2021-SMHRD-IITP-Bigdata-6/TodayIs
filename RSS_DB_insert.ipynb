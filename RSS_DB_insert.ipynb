{
 "cells": [
  {
   "cell_type": "markdown",
   "id": "a4b81ab6",
   "metadata": {},
   "source": [
    "### 라이브러리"
   ]
  },
  {
   "cell_type": "code",
   "execution_count": 84,
   "id": "b5235d05",
   "metadata": {},
   "outputs": [],
   "source": [
    "import urllib.request as urlreq\n",
    "import os.path\n",
    "from bs4 import BeautifulSoup as bs\n",
    "import pandas as pd"
   ]
  },
  {
   "cell_type": "markdown",
   "id": "2e971a9e",
   "metadata": {},
   "source": [
    "### RSS "
   ]
  },
  {
   "cell_type": "code",
   "execution_count": 116,
   "id": "24f4c514",
   "metadata": {},
   "outputs": [],
   "source": [
    "url = \"https://www.kma.go.kr/weather/forecast/mid-term-rss3.jsp?stnId=108\"\n",
    "savename = 'forecast.xml'"
   ]
  },
  {
   "cell_type": "code",
   "execution_count": 118,
   "id": "bfafe30a",
   "metadata": {},
   "outputs": [
    {
     "name": "stdout",
     "output_type": "stream",
     "text": [
      "       서울   인천   수원   파주   이천   평택   춘천   원주  강릉   대전  ...  거창  통영  대구   안동  \\\n",
      "날씨     맑음   맑음   맑음   맑음   맑음   맑음   맑음   맑음  맑음   맑음  ...  맑음  맑음  맑음   맑음   \n",
      "최저기온  -11  -10  -12  -16  -14  -12  -15  -13  -8  -10  ...  -9  -5  -8  -11   \n",
      "최고기온   -1    0    0    0    0    0   -1   -1   2    1  ...   2   5   3    1   \n",
      "\n",
      "      포항  경주  울진 울릉도     제주    서귀포  \n",
      "날씨    맑음  맑음  맑음  맑음  흐리고 눈  흐리고 눈  \n",
      "최저기온  -7  -9  -8  -4      3      2  \n",
      "최고기온   3   3   4   0      6      8  \n",
      "\n",
      "[3 rows x 41 columns]\n"
     ]
    }
   ],
   "source": [
    "if not os.path.exists(savename) :\n",
    "    urlreq.urlretrieve(url, savename) \n",
    "\n",
    "xml = open(savename, encoding='utf-8').read() \n",
    "soup = bs(xml, 'lxml-xml') \n",
    "info = {}\n",
    "\n",
    "for location in soup.find_all('location') : \n",
    "    name = location.find('city').string # 도시이름 \n",
    "    weather = location.find('wf').string # 날씨\n",
    "    tempMin = location.find('tmn').string # 최저기온\n",
    "    tempMax = location.find('tmx').string # 최고기온\n",
    "    \n",
    "    if not name in info : \n",
    "        info[name] = [] \n",
    "    info[name].append(weather) \n",
    "    info[name].append(tempMin) \n",
    "    info[name].append(tempMax) \n",
    "\n",
    "df = pd.DataFrame(info) \n",
    "df.index = ['날씨', '최저기온', '최고기온'] # 인덱스 설정\n",
    "\n",
    "print(df)\n",
    "\n",
    "df.to_csv('weathers.csv', encoding='utf-8-sig')  # csv 변환"
   ]
  },
  {
   "cell_type": "markdown",
   "id": "383ce917",
   "metadata": {},
   "source": [
    "### Oracle DB 연결"
   ]
  },
  {
   "cell_type": "code",
   "execution_count": 119,
   "id": "d8a8891e",
   "metadata": {},
   "outputs": [
    {
     "name": "stdout",
     "output_type": "stream",
     "text": [
      "Requirement already satisfied: cx_Oracle in c:\\users\\smhrd\\anaconda3\\lib\\site-packages (8.3.0)\n",
      "Requirement already satisfied: pymssql in c:\\users\\smhrd\\anaconda3\\lib\\site-packages (2.2.3)\n"
     ]
    }
   ],
   "source": [
    "!pip install cx_Oracle\n",
    "import cx_Oracle as xe\n",
    "from bs4 import BeautifulSoup\n",
    "import requests as req\n",
    "from pprint import pprint\n",
    "!pip install pymssql\n",
    "import pyodbc"
   ]
  },
  {
   "cell_type": "markdown",
   "id": "4f9041e2",
   "metadata": {},
   "source": [
    "### Oracle DB : data 생성"
   ]
  },
  {
   "cell_type": "code",
   "execution_count": 120,
   "id": "fb1a8882",
   "metadata": {},
   "outputs": [
    {
     "name": "stdout",
     "output_type": "stream",
     "text": [
      "[(1, '서울', '맑음', -6, 3),\n",
      " (2, '인천', '맑음', -5, 3),\n",
      " (3, '수원', '맑음', -7, 4),\n",
      " (4, '파주', '맑음', -12, 2),\n",
      " (5, '이천', '맑음', -10, 3),\n",
      " (6, '평택', '맑음', -8, 4),\n",
      " (7, '춘천', '맑음', -10, 3),\n",
      " (8, '원주', '맑음', -8, 2),\n",
      " (9, '강릉', '맑음', -4, 7),\n",
      " (10, '대전', '맑음', -6, 5),\n",
      " (11, '세종', '맑음', -7, 5),\n",
      " (12, '홍성', '맑음', -7, 5),\n",
      " (13, '청주', '맑음', -6, 4),\n",
      " (14, '충주', '맑음', -10, 3),\n",
      " (15, '영동', '맑음', -9, 5),\n",
      " (16, '광주', '구름많음', -2, 7),\n",
      " (17, '목포', '구름많음', 1, 8),\n",
      " (18, '여수', '구름많음', 1, 8),\n",
      " (19, '순천', '구름많음', -1, 9),\n",
      " (20, '광양', '구름많음', -1, 9),\n",
      " (21, '나주', '구름많음', -4, 7),\n",
      " (22, '전주', '구름많음', -3, 6),\n",
      " (23, '군산', '구름많음', -5, 5),\n",
      " (24, '정읍', '구름많음', -3, 5),\n",
      " (25, '남원', '구름많음', -5, 6),\n",
      " (26, '고창', '구름많음', -2, 6),\n",
      " (27, '무주', '구름많음', -7, 5),\n",
      " (28, '부산', '맑음', 0, 8),\n",
      " (29, '울산', '맑음', -2, 8),\n",
      " (30, '창원', '맑음', -2, 7),\n",
      " (31, '진주', '맑음', -6, 8),\n",
      " (32, '거창', '맑음', -7, 7),\n",
      " (33, '통영', '맑음', 0, 8),\n",
      " (34, '대구', '맑음', -4, 7),\n",
      " (35, '안동', '맑음', -8, 5),\n",
      " (36, '포항', '맑음', -2, 8),\n",
      " (37, '경주', '맑음', -5, 8),\n",
      " (38, '울진', '맑음', -4, 8),\n",
      " (39, '울릉도', '맑음', 0, 6),\n",
      " (40, '제주', '구름많음', 5, 10),\n",
      " (41, '서귀포', '구름많음', 4, 10)]\n"
     ]
    }
   ],
   "source": [
    "dsn = cx_Oracle.makedsn('project-db-stu.ddns.net',1524,'xe')\n",
    "url = \"https://www.kma.go.kr/weather/forecast/mid-term-rss3.jsp?stnId=108\"\n",
    "material = req.get(url)\n",
    "soup = BeautifulSoup(material.text, 'html.parser')\n",
    "conn = cx_Oracle.connect('cgi_8_1_1216','smhrd1',dsn)\n",
    "\n",
    "with conn :\n",
    "    cur = conn.cursor()\n",
    "    drop_table = \"\"\"\n",
    "                    BEGIN\n",
    "                        EXECUTE IMMEDIATE 'DROP TABLE forecast';\n",
    "                    EXCEPTION\n",
    "                        WHEN OTHERS THEN\n",
    "                            IF SQLCODE != -942 THEN\n",
    "                                RAISE;\n",
    "                            END IF;\n",
    "                    END;\n",
    "                \"\"\"\n",
    "    cur.execute(drop_table)\n",
    "    \n",
    "    drop_seq = \"\"\"\n",
    "                    BEGIN\n",
    "                        EXECUTE IMMEDIATE 'DROP SEQUENCE fc_seq';\n",
    "                    EXCEPTION\n",
    "                        WHEN OTHERS THEN\n",
    "                        IF SQLCODE != -2289 THEN\n",
    "                            RAISE;\n",
    "                        END IF;\n",
    "                    END;\n",
    "                \"\"\"\n",
    "    cur.execute(drop_seq)\n",
    "    \n",
    "    create_table =\"\"\"\n",
    "                    create table forecast(\n",
    "                        city_index number(4) primary key,\n",
    "                        city_name varchar2(20),\n",
    "                        weather_stat varchar2(20),\n",
    "                        temp_min number(5),\n",
    "                        temp_max number(5)\n",
    "                    )\n",
    "                \"\"\"\n",
    "    cur.execute(create_table)\n",
    "    \n",
    "    cur.execute(\"create sequence fc_seq\")\n",
    "    \n",
    "    for location in soup.find_all('location'):\n",
    "        name = location.find('city').string\n",
    "        weather = location.find('wf').string\n",
    "        tempMin = int(location.find('tmn').string)\n",
    "        tempMax = int(location.find('tmx').string)\n",
    "        \n",
    "        # 데이터 삽입\n",
    "        insert_data = \"\"\"\n",
    "                        insert into forecast(city_index, city_name, weather_stat, temp_min, temp_max)\n",
    "                        values(fc_seq.nextval, :1, :2, :3, :4)\n",
    "                    \"\"\"\n",
    "        cur.execute(insert_data, (name, weather, tempMin, tempMax)) # 도시, 날씨, 최저기온, 최고기온\n",
    "    conn.commit()\n",
    "\n",
    "    cur.execute(\"select * from forecast\") #데이터 조회 => 데이터 추가됐는지 확인\n",
    "    pprint(cur.fetchall())"
   ]
  },
  {
   "cell_type": "code",
   "execution_count": null,
   "id": "becfeb6b",
   "metadata": {},
   "outputs": [],
   "source": []
  }
 ],
 "metadata": {
  "kernelspec": {
   "display_name": "Python 3",
   "language": "python",
   "name": "python3"
  },
  "language_info": {
   "codemirror_mode": {
    "name": "ipython",
    "version": 3
   },
   "file_extension": ".py",
   "mimetype": "text/x-python",
   "name": "python",
   "nbconvert_exporter": "python",
   "pygments_lexer": "ipython3",
   "version": "3.8.8"
  }
 },
 "nbformat": 4,
 "nbformat_minor": 5
}
